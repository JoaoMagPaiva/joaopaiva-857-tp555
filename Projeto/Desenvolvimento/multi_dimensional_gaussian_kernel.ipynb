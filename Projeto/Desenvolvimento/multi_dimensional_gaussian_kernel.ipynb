{
 "cells": [
  {
   "cell_type": "code",
   "execution_count": null,
   "metadata": {},
   "outputs": [],
   "source": [
    "from numpy import array, linspace\n",
    "from sklearn.neighbors.kde import KernelDensity\n",
    "import matplotlib.pyplot as plt\n",
    "import numpy as np\n",
    "from scipy.signal import argrelextrema\n",
    "\n",
    "from one_dimensional_gaussian_kernel import OneDimensionalGaussianKernel\n",
    "\n",
    "\n",
    "class MultiDimensionalGaussianKernel():\n",
    "    def __init__(self, bandwidth=1):\n",
    "        self.bandwidth = bandwidth\n",
    "        self.dict_variables = {}\n",
    "\n",
    "    def fit(self, X):\n",
    "        column_len = X.shape[1]\n",
    "        for i in range(column_len):\n",
    "            x = X[:, [i]]\n",
    "            gk = OneDimensionalGaussianKernel(self.bandwidth)\n",
    "            gk.fit(x)\n",
    "\n",
    "            self.dict_variables[i] = gk\n",
    "\n",
    "        for i, gk in self.dict_variables.items():\n",
    "            print(i, gk)\n",
    "\n",
    "    def predict(self, X):\n",
    "        column_len = X.shape[1]\n",
    "        predicted_list = []\n",
    "        for i in range(column_len):\n",
    "            x = X[:, [i]]\n",
    "            gk = self.dict_variables[i]\n",
    "            predicted = gk.predict(x)\n",
    "            predicted_list.append(predicted)\n",
    "\n",
    "        predicted = list(zip(*predicted_list))\n",
    "        predicted = [str(x) for x in predicted]\n",
    "\n",
    "        return predicted"
   ]
  }
 ],
 "metadata": {
  "kernelspec": {
   "display_name": "Python 3",
   "language": "python",
   "name": "python3"
  },
  "language_info": {
   "codemirror_mode": {
    "name": "ipython",
    "version": 3
   },
   "file_extension": ".py",
   "mimetype": "text/x-python",
   "name": "python",
   "nbconvert_exporter": "python",
   "pygments_lexer": "ipython3",
   "version": "3.7.6"
  }
 },
 "nbformat": 4,
 "nbformat_minor": 4
}
