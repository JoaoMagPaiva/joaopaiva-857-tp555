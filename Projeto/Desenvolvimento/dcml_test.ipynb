{
 "cells": [
  {
   "cell_type": "code",
   "execution_count": 1,
   "metadata": {},
   "outputs": [
    {
     "ename": "ModuleNotFoundError",
     "evalue": "No module named 'dcml'",
     "output_type": "error",
     "traceback": [
      "\u001b[1;31m---------------------------------------------------------------------------\u001b[0m",
      "\u001b[1;31mModuleNotFoundError\u001b[0m                       Traceback (most recent call last)",
      "\u001b[1;32m<ipython-input-1-d1449778d25a>\u001b[0m in \u001b[0;36m<module>\u001b[1;34m\u001b[0m\n\u001b[0;32m      1\u001b[0m \u001b[1;32mimport\u001b[0m \u001b[0mnumpy\u001b[0m \u001b[1;32mas\u001b[0m \u001b[0mnp\u001b[0m\u001b[1;33m\u001b[0m\u001b[1;33m\u001b[0m\u001b[0m\n\u001b[0;32m      2\u001b[0m \u001b[1;32mimport\u001b[0m \u001b[0mpandas\u001b[0m \u001b[1;32mas\u001b[0m \u001b[0mpd\u001b[0m\u001b[1;33m\u001b[0m\u001b[1;33m\u001b[0m\u001b[0m\n\u001b[1;32m----> 3\u001b[1;33m \u001b[1;32mfrom\u001b[0m \u001b[0mdcml\u001b[0m \u001b[1;32mimport\u001b[0m \u001b[0mDataClusterBasedMachineLearning\u001b[0m\u001b[1;33m\u001b[0m\u001b[1;33m\u001b[0m\u001b[0m\n\u001b[0m\u001b[0;32m      4\u001b[0m \u001b[1;33m\u001b[0m\u001b[0m\n\u001b[0;32m      5\u001b[0m \u001b[1;33m\u001b[0m\u001b[0m\n",
      "\u001b[1;31mModuleNotFoundError\u001b[0m: No module named 'dcml'"
     ]
    }
   ],
   "source": [
    "import numpy as np\n",
    "import pandas as pd\n",
    "from dcml import DataClusterBasedMachineLearning\n",
    "\n",
    "\n",
    "##########################################\n",
    "# Step 1. Machine Learning\n",
    "x_data = np.array([[667., 7], [693.3, 7], [732.9, 6], [658.9, 1], [702.8, 7], [667., 7], [693.3, 7], [732.9, 6], [658.9, 1], [702.8, 7], [667. , 7], [693.3, 7], [732.9, 6], [658.9, 1], [702.8, 7], [697.2, 1], [658.7, 2], [723.1, 1], [719.5, 3], [687.4, 1], [704.1, 1], [658.8, 4], [667.8, 3], [703.4, 3]])\n",
    "y_data = np.array([[667.], [693.3], [732.9], [658.9], [702.8], [667.], [693.3], [732.9], [658.9], [702.8], [667.], [693.3], [732.9], [658.9], [702.8],[697.2], [658.7], [723.1], [719.5], [687.4], [704.1], [658.8], [667.8], [703.4]])\n",
    "\n",
    "x_df = pd.DataFrame({'X1': x_data[:, 0], 'X2': x_data[:, 1]})\n",
    "y_df = pd.DataFrame({'Y': y_data[:, 0]})\n",
    "\n",
    "clustering_algs = {'GaussianMixture':[2, 3, 4], 'Birch':[2, 3, 4], 'MiniBatchKMeans':[2, 3, 4]}\n",
    "prediction_algs = ['GaussianProcessRegressor', 'RandomForestRegressor']\n",
    "selected_variables = ['X1']\n",
    "\n",
    "dc_ml = DataClusterBasedMachineLearning(x_df, y_df, selected_variables, clustering_algs, prediction_algs)\n",
    "ml_family = dc_ml.run()\n",
    "\n",
    "\n",
    "##########################################\n",
    "# Step 2. Prediction\n",
    "x_test_data = np.array([[661., 7], [696.3, 8]])\n",
    "y_test_data = np.array([[662.], [699.3]])\n",
    "x_test_df = pd.DataFrame({'X1': x_test_data[:, 0], 'X2': x_test_data[:, 1]})\n",
    "y_test_df = pd.DataFrame({'Y': y_test_data[:, 0]})\n",
    "\n",
    "yPredicted, score, y_label = dc_ml.perform_prediction(x_test_df, y_test_df)\n",
    "\n",
    "print(y_test_df)\n",
    "print(f'Score = {score}')"
   ]
  },
  {
   "cell_type": "code",
   "execution_count": null,
   "metadata": {},
   "outputs": [],
   "source": []
  }
 ],
 "metadata": {
  "kernelspec": {
   "display_name": "Python 3",
   "language": "python",
   "name": "python3"
  },
  "language_info": {
   "codemirror_mode": {
    "name": "ipython",
    "version": 3
   },
   "file_extension": ".py",
   "mimetype": "text/x-python",
   "name": "python",
   "nbconvert_exporter": "python",
   "pygments_lexer": "ipython3",
   "version": "3.7.6"
  }
 },
 "nbformat": 4,
 "nbformat_minor": 4
}
