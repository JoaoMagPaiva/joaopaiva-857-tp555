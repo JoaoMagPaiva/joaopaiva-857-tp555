{
 "cells": [
  {
   "cell_type": "code",
   "execution_count": 3,
   "metadata": {},
   "outputs": [],
   "source": [
    "import numpy as np\n",
    "import matplotlib.pyplot as plt\n",
    "from mpl_toolkits.mplot3d import Axes3D\n",
    "from matplotlib import cm\n",
    "import matplotlib\n",
    "from pylab import *\n",
    "import random\n",
    "from sklearn.preprocessing import MinMaxScaler\n",
    "\n",
    "%matplotlib inline"
   ]
  },
  {
   "cell_type": "code",
   "execution_count": 4,
   "metadata": {},
   "outputs": [],
   "source": [
    "#GERAR DADOS\n",
    "M = 1000\n",
    "\n",
    "minMaxScaler = MinMaxScaler()\n",
    "\n",
    "#CONJUNTO 1 - TREINAMENTO\n",
    "xa = np.random.randn(M,1) #gerando um vetor coluna de 1000 linhas com valores de uma distribuição normal de média 0 e variancia 1\n",
    "xb = 10*np.random.randn(M,1) + 10 #gerando um vetor coluna de 1000 linhas com valores de uma distribuição normal de média 10 e variancia 100\n",
    "y1 = xa + xb\n",
    "\n",
    "#CONCATENAR xa E xb\n",
    "X1 = np.c_[xa,xb]\n",
    "\n",
    "#PADRONIZAÇÃO DE X1\n",
    "scaled_X1 = minMaxScaler.fit_transform(X1)\n",
    "\n",
    "#CONJUNTO 2 - VALIDACAO\n",
    "x1 = np.random.randn(M,1)\n",
    "x2 = 10*np.random.randn(M,1) + 10\n",
    "y2 = x1 + x2\n",
    "\n",
    "#CONCATENAR x1 E x2\n",
    "X2 = np.c_[x1,x2]\n",
    "\n",
    "#PADRONIZAÇÃO DE X2\n",
    "scaled_X2 = minMaxScaler.fit_transform(X2)"
   ]
  },
  {
   "cell_type": "code",
   "execution_count": 5,
   "metadata": {},
   "outputs": [
    {
     "ename": "KeyboardInterrupt",
     "evalue": "",
     "output_type": "error",
     "traceback": [
      "\u001b[1;31m---------------------------------------------------------------------------\u001b[0m",
      "\u001b[1;31mKeyboardInterrupt\u001b[0m                         Traceback (most recent call last)",
      "\u001b[1;32m<ipython-input-5-e92c47952cb5>\u001b[0m in \u001b[0;36m<module>\u001b[1;34m\u001b[0m\n\u001b[0;32m     11\u001b[0m     \u001b[1;32mfor\u001b[0m \u001b[0miter2\u001b[0m \u001b[1;32min\u001b[0m \u001b[0mrange\u001b[0m \u001b[1;33m(\u001b[0m\u001b[1;36m0\u001b[0m\u001b[1;33m,\u001b[0m\u001b[0mN\u001b[0m\u001b[1;33m)\u001b[0m\u001b[1;33m:\u001b[0m\u001b[1;33m\u001b[0m\u001b[1;33m\u001b[0m\u001b[0m\n\u001b[0;32m     12\u001b[0m         \u001b[0myhat\u001b[0m \u001b[1;33m=\u001b[0m \u001b[0mA1\u001b[0m\u001b[1;33m[\u001b[0m\u001b[0miter1\u001b[0m\u001b[1;33m]\u001b[0m\u001b[1;33m[\u001b[0m\u001b[0miter2\u001b[0m\u001b[1;33m]\u001b[0m\u001b[1;33m*\u001b[0m\u001b[0mscaled_X1\u001b[0m\u001b[1;33m[\u001b[0m\u001b[1;33m:\u001b[0m\u001b[1;33m,\u001b[0m\u001b[1;36m0\u001b[0m\u001b[1;33m]\u001b[0m \u001b[1;33m+\u001b[0m \u001b[0mA2\u001b[0m\u001b[1;33m[\u001b[0m\u001b[0miter1\u001b[0m\u001b[1;33m]\u001b[0m\u001b[1;33m[\u001b[0m\u001b[0miter2\u001b[0m\u001b[1;33m]\u001b[0m\u001b[1;33m*\u001b[0m\u001b[0mscaled_X1\u001b[0m\u001b[1;33m[\u001b[0m\u001b[1;33m:\u001b[0m\u001b[1;33m,\u001b[0m\u001b[1;36m1\u001b[0m\u001b[1;33m]\u001b[0m\u001b[1;33m\u001b[0m\u001b[1;33m\u001b[0m\u001b[0m\n\u001b[1;32m---> 13\u001b[1;33m         \u001b[0mJ\u001b[0m\u001b[1;33m[\u001b[0m\u001b[0miter1\u001b[0m\u001b[1;33m]\u001b[0m\u001b[1;33m[\u001b[0m\u001b[0miter2\u001b[0m\u001b[1;33m]\u001b[0m \u001b[1;33m=\u001b[0m \u001b[1;33m(\u001b[0m\u001b[1;36m1\u001b[0m\u001b[1;33m/\u001b[0m\u001b[0mM\u001b[0m\u001b[1;33m)\u001b[0m\u001b[1;33m*\u001b[0m\u001b[0mnp\u001b[0m\u001b[1;33m.\u001b[0m\u001b[0msum\u001b[0m\u001b[1;33m(\u001b[0m\u001b[0mnp\u001b[0m\u001b[1;33m.\u001b[0m\u001b[0msquare\u001b[0m\u001b[1;33m(\u001b[0m\u001b[0my1\u001b[0m \u001b[1;33m-\u001b[0m \u001b[0myhat\u001b[0m\u001b[1;33m)\u001b[0m\u001b[1;33m)\u001b[0m\u001b[1;33m\u001b[0m\u001b[1;33m\u001b[0m\u001b[0m\n\u001b[0m\u001b[0;32m     14\u001b[0m \u001b[1;33m\u001b[0m\u001b[0m\n\u001b[0;32m     15\u001b[0m \u001b[1;31m#PLOTANDO O GRAFICO DA FUNÇÃO DE CUSTO\u001b[0m\u001b[1;33m\u001b[0m\u001b[1;33m\u001b[0m\u001b[1;33m\u001b[0m\u001b[0m\n",
      "\u001b[1;32m<__array_function__ internals>\u001b[0m in \u001b[0;36msum\u001b[1;34m(*args, **kwargs)\u001b[0m\n",
      "\u001b[1;32mC:\\ProgramData\\Anaconda3\\lib\\site-packages\\numpy\\core\\fromnumeric.py\u001b[0m in \u001b[0;36msum\u001b[1;34m(a, axis, dtype, out, keepdims, initial, where)\u001b[0m\n\u001b[0;32m   2227\u001b[0m \u001b[1;33m\u001b[0m\u001b[0m\n\u001b[0;32m   2228\u001b[0m     return _wrapreduction(a, np.add, 'sum', axis, dtype, out, keepdims=keepdims,\n\u001b[1;32m-> 2229\u001b[1;33m                           initial=initial, where=where)\n\u001b[0m\u001b[0;32m   2230\u001b[0m \u001b[1;33m\u001b[0m\u001b[0m\n\u001b[0;32m   2231\u001b[0m \u001b[1;33m\u001b[0m\u001b[0m\n",
      "\u001b[1;32mC:\\ProgramData\\Anaconda3\\lib\\site-packages\\numpy\\core\\fromnumeric.py\u001b[0m in \u001b[0;36m_wrapreduction\u001b[1;34m(obj, ufunc, method, axis, dtype, out, **kwargs)\u001b[0m\n\u001b[0;32m     88\u001b[0m                 \u001b[1;32mreturn\u001b[0m \u001b[0mreduction\u001b[0m\u001b[1;33m(\u001b[0m\u001b[0maxis\u001b[0m\u001b[1;33m=\u001b[0m\u001b[0maxis\u001b[0m\u001b[1;33m,\u001b[0m \u001b[0mout\u001b[0m\u001b[1;33m=\u001b[0m\u001b[0mout\u001b[0m\u001b[1;33m,\u001b[0m \u001b[1;33m**\u001b[0m\u001b[0mpasskwargs\u001b[0m\u001b[1;33m)\u001b[0m\u001b[1;33m\u001b[0m\u001b[1;33m\u001b[0m\u001b[0m\n\u001b[0;32m     89\u001b[0m \u001b[1;33m\u001b[0m\u001b[0m\n\u001b[1;32m---> 90\u001b[1;33m     \u001b[1;32mreturn\u001b[0m \u001b[0mufunc\u001b[0m\u001b[1;33m.\u001b[0m\u001b[0mreduce\u001b[0m\u001b[1;33m(\u001b[0m\u001b[0mobj\u001b[0m\u001b[1;33m,\u001b[0m \u001b[0maxis\u001b[0m\u001b[1;33m,\u001b[0m \u001b[0mdtype\u001b[0m\u001b[1;33m,\u001b[0m \u001b[0mout\u001b[0m\u001b[1;33m,\u001b[0m \u001b[1;33m**\u001b[0m\u001b[0mpasskwargs\u001b[0m\u001b[1;33m)\u001b[0m\u001b[1;33m\u001b[0m\u001b[1;33m\u001b[0m\u001b[0m\n\u001b[0m\u001b[0;32m     91\u001b[0m \u001b[1;33m\u001b[0m\u001b[0m\n\u001b[0;32m     92\u001b[0m \u001b[1;33m\u001b[0m\u001b[0m\n",
      "\u001b[1;31mKeyboardInterrupt\u001b[0m: "
     ]
    }
   ],
   "source": [
    "#GERANDO VALORES PARA PARAMETROS\n",
    "N = 500\n",
    "a1 = np.linspace(-20.0, 20.0, N) #gerando N valores entre -20 e 20 regularmente espaçados\n",
    "a2 = np.linspace(-20.0, 20.0, N) #gerando N valores entre -20 e 20 regularmente espaçados\n",
    "\n",
    "A1, A2 = np.meshgrid(a1, a2) #criando o meshgrid\n",
    "\n",
    "#GERANDO DADOS PARA PLOTAR A FUNÇÃO DE CUSTO\n",
    "J = np.zeros ((N,N)) #Matriz N por N de zeros\n",
    "for iter1 in range (0,N):\n",
    "    for iter2 in range (0,N):\n",
    "        yhat = A1[iter1][iter2]*scaled_X1[:,0] + A2[iter1][iter2]*scaled_X1[:,1]\n",
    "        J[iter1][iter2] = (1/M)*np.sum(np.square(y1 - yhat))\n",
    "        \n",
    "#PLOTANDO O GRAFICO DA FUNÇÃO DE CUSTO\n",
    "fig = plt.figure(figsize=(10,10))\n",
    "ax = fig.gca(projection='3d')\n",
    "surf = ax.plot_surface(A1, A2, J, cmap=cm.coolwarm, linewidth=0, antialiased=False)\n",
    "\n",
    "# ADICIONANDO A BARRA DE CORES PARA LEGENDA\n",
    "fig.colorbar(surf, shrink=0.5, aspect=5)\n",
    "\n",
    "#ADICIONANDO LABELS E TÍTULO\n",
    "ax.set_xlabel('$a_1$', fontsize=14)\n",
    "ax.set_ylabel('$a_2$', fontsize=14)\n",
    "ax.set_zlabel('$J_e$', fontsize=14);\n",
    "plt.title('Cost-function\\'s Surface')\n",
    "ax.view_init(20, 45)\n",
    "fig\n",
    "\n",
    "#MOSTRAR A FIGURA\n",
    "plt.show()\n",
    "\n",
    "#SALVAR\n",
    "plt.savefig(\"superficie_erro_gd_batelada_exercicio8b.png\", dpi=600)"
   ]
  },
  {
   "cell_type": "code",
   "execution_count": 6,
   "metadata": {},
   "outputs": [
    {
     "name": "stdout",
     "output_type": "stream",
     "text": [
      "a1: 1.0000\n",
      "a2: 1.0000\n"
     ]
    }
   ],
   "source": [
    "#SOLUÇÃO FECHADA\n",
    "a_opt = np.linalg.pinv(X1.T.dot(X1)).dot(X1.T).dot(y1)\n",
    "\n",
    "yhat = a_opt[0,0]*xa + a_opt[1,0]*xb\n",
    "\n",
    "Joptimum = (1/M)*np.sum(np.square(y1 - yhat))\n",
    "\n",
    "#PRINT\n",
    "print('a1: %1.4f' %(a_opt[0][0]))\n",
    "print('a2: %1.4f' %(a_opt[1][0]))"
   ]
  },
  {
   "cell_type": "code",
   "execution_count": 8,
   "metadata": {},
   "outputs": [],
   "source": [
    "#NUMERO DE ITERACOES\n",
    "N_iterations = 2000\n",
    "\n",
    "#PASSO DE APRENDIZAGEM\n",
    "eta = 0.005 #TIVE UM PROBLEMA QUE NÃO CONSEGUI DEPURAR QUANTO TROCAVA O PASSO DE APRENDIZAGEM\n",
    "\n",
    "#INICIALIZAÇÃO DOS PARÂMETROS\n",
    "a = np.zeros((2,1)) #vetor coluna de parâmetros inicializados com 0\n",
    "a[0] = -20 #Atribuição de valor inicial para o passo de aprendizagem\n",
    "a[1] = -20\n",
    "\n",
    "#CRIANDO DADOS HISTÓRICOS\n",
    "a_hist = np.zeros((2,N_iterations + 1))\n",
    "J_hist = np.zeros(N_iterations + 1)\n",
    "a_hist[0,0] = a[0]\n",
    "a_hist[1,0] = a[1]\n",
    "y_hip = a_hist[0,0]*scaled_X1[:,0] + a_hist[1,0]*scaled_X1[:,1]\n",
    "J_hist[0] = (1/M)*np.sum (np.square(y1 - y_hip))\n",
    "\n",
    "#BATELADA ENQUANTO ERRO > 0.001 E NÃO ALCANÇOU NÚMERO MÁXIMO DE ITERAÇÕES\n",
    "error = 1\n",
    "iteration = 0\n",
    "while (error > 0.001 and iteration < N_iterations-1):\n",
    "    gradients = (-2/M) * scaled_X1.T.dot(y1 - scaled_X1.dot(a))\n",
    "    a = a - eta * gradients\n",
    "    a_hist[0, iteration+1] = a[0]\n",
    "    a_hist[1, iteration+1] = a[1]\n",
    "    \n",
    "    y_hip = a[0]*scaled_X1[:,0] +a[1]*scaled_X2[:,1]\n",
    "    J_hist[iteration+1] = (1/M)*sum(np.square(y1 - y_hip))\n",
    "    error = np.abs(J_hist[iteration+1] - J_hist[iteration])\n",
    "    iteration = iteration + 1"
   ]
  },
  {
   "cell_type": "code",
   "execution_count": 9,
   "metadata": {},
   "outputs": [
    {
     "data": {
      "image/png": "[encoded data removed]",
      "text/plain": [
       "<Figure size 720x720 with 1 Axes>"
      ]
     },
     "metadata": {
      "needs_background": "light"
     },
     "output_type": "display_data"
    },
    {
     "data": {
      "text/plain": [
       "<Figure size 432x288 with 0 Axes>"
      ]
     },
     "metadata": {},
     "output_type": "display_data"
    }
   ],
   "source": [
    "#PLOTAR CURVA DE NÍVEL\n",
    "fig = plt.figure(figsize=(10,10))\n",
    "cp = plt.contour(A1, A2, J)\n",
    "\n",
    "#ADICIONANDO LABELS E TÍTULO\n",
    "plt.clabel(cp, inline=1, fontsize=10)\n",
    "plt.xlabel('$a_1$', fontsize=14)\n",
    "plt.ylabel('$a_2$', fontsize=14)\n",
    "plt.title('Cost-function\\'s Contour')\n",
    "\n",
    "#ADICIONANDO MARCADORES DE PARÂMETROS\n",
    "plt.plot(a_hist[0, :], a_hist[1, :], 'kx')\n",
    "plt.plot(a_opt[0], a_opt[1], c='r', marker='*', markersize=14)\n",
    "\n",
    "#ARRUMANDO OS INTERVALOS\n",
    "plt.xticks(np.arange(-20, 20, step=2.0))\n",
    "plt.yticks(np.arange(-20, 20, step=2.0))\n",
    "\n",
    "#MOSTRAR FIGURA\n",
    "plt.show()\n",
    "\n",
    "#SALVAR\n",
    "plt.savefig(\"grafico_contorno_gd_batelada_exercicio8b.png\", dpi=600)"
   ]
  },
  {
   "cell_type": "code",
   "execution_count": 10,
   "metadata": {},
   "outputs": [
    {
     "data": {
      "image/png": "[encoded data removed]",
      "text/plain": [
       "<Figure size 720x720 with 1 Axes>"
      ]
     },
     "metadata": {
      "needs_background": "light"
     },
     "output_type": "display_data"
    },
    {
     "data": {
      "text/plain": [
       "<Figure size 432x288 with 0 Axes>"
      ]
     },
     "metadata": {},
     "output_type": "display_data"
    }
   ],
   "source": [
    "#PLOTANDO O GRAFICO DO ERRO PARA CADA ITERAÇÃO\n",
    "plt.figure(figsize=(10,10))\n",
    "plt.plot(np.arange(0, N_iterations+1), J_hist)\n",
    "\n",
    "#ADICIONANDO LABELS E TÍTULO\n",
    "plt.xlabel('Iterations', fontsize=14)\n",
    "plt.ylabel('J(a)', fontsize=14)\n",
    "plt.title('Error in each iteration')\n",
    "\n",
    "#ARRUMANDO OS INTERVALOS\n",
    "plt.xlim(0, iteration)\n",
    "plt.yscale('log')\n",
    "plt.xticks(np.arange(0, 2000, step=100.0))\n",
    "plt.yticks(np.arange(0, 0.001, step=0.0001))\n",
    "\n",
    "#MOSTRAR FIGURA\n",
    "plt.show()\n",
    "\n",
    "#SALVAR\n",
    "plt.savefig(\"erro_iteracao_gd_batelada_exercicio8b.png\", dpi=600)"
   ]
  },
  {
   "cell_type": "code",
   "execution_count": null,
   "metadata": {},
   "outputs": [],
   "source": []
  }
 ],
 "metadata": {
  "kernelspec": {
   "display_name": "Python 3",
   "language": "python",
   "name": "python3"
  },
  "language_info": {
   "codemirror_mode": {
    "name": "ipython",
    "version": 3
   },
   "file_extension": ".py",
   "mimetype": "text/x-python",
   "name": "python",
   "nbconvert_exporter": "python",
   "pygments_lexer": "ipython3",
   "version": "3.7.6"
  }
 },
 "nbformat": 4,
 "nbformat_minor": 4
}
