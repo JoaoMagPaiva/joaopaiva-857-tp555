{
 "cells": [
  {
   "cell_type": "code",
   "execution_count": 3,
   "metadata": {},
   "outputs": [],
   "source": [
    "#DECLARAÇÃO DE BIBLIOTECAS\n",
    "\n",
    "import numpy as np\n",
    "import matplotlib.pyplot as plt\n",
    "from sklearn.datasets import fetch_20newsgroups\n",
    "from sklearn.naive_bayes import MultinomialNB\n",
    "from sklearn.feature_extraction.text import CountVectorizer\n",
    "from sklearn.pipeline import make_pipeline\n",
    "from sklearn.metrics import confusion_matrix\n",
    "import seaborn as sns\n",
    "from sklearn.naive_bayes import BernoulliNB\n",
    "from sklearn import metrics\n",
    "from sklearn.metrics import accuracy_score, roc_curve, auc"
   ]
  },
  {
   "cell_type": "code",
   "execution_count": 4,
   "metadata": {},
   "outputs": [],
   "source": [
    "#INPUT DE DADOS\n",
    "\n",
    "#Features\n",
    "x_train = np.array(['Chinese Beijing Chinese','Chinese Chinese Shanghai','Chinese Macao','Tokyo Japan Chinese']) \n",
    " \n",
    "#Labels\n",
    "y_train = np.array(['china','china','china','not china']) \n",
    "\n",
    "#Teste\n",
    "x_test = np.array(['Chinese Chinese Chinese Tokyo Japan']) "
   ]
  },
  {
   "cell_type": "code",
   "execution_count": 19,
   "metadata": {},
   "outputs": [],
   "source": [
    "#MODELOS\n",
    "#CRIAR O MODELO MULTINOMIAL\n",
    "\n",
    "vetor_multi = CountVectorizer(binary=False) #cria a matriz que conta o numero de vezes que cada termo aparece no texto\n",
    "\n",
    "X_train_dtm_multinomial = vetor_multi.fit_transform(x_train)\n",
    "\n",
    "tipo_modelo1 = MultinomialNB() #define o classificador\n",
    "\n",
    "multinomial = make_pipeline(vetor_multi, tipo_modelo1) #cria modelo\n",
    "\n",
    "#CRIAR O MODELO BERNOULLI\n",
    "\n",
    "vetor_bernoulli = CountVectorizer(binary=True) #cria a matriz que mostra se a palavra aparece ou nao na mensagem\n",
    "\n",
    "X_train_dtm_bernoulli = vetor_bernoulli.fit_transform(x_train)\n",
    "\n",
    "nb = BernoulliNB(binarize=None)"
   ]
  },
  {
   "cell_type": "code",
   "execution_count": 20,
   "metadata": {},
   "outputs": [
    {
     "data": {
      "text/plain": [
       "BernoulliNB(alpha=1.0, binarize=None, class_prior=None, fit_prior=True)"
      ]
     },
     "execution_count": 20,
     "metadata": {},
     "output_type": "execute_result"
    }
   ],
   "source": [
    "#TREINOS\n",
    "\n",
    "multinomial.fit(x_train, y_train) #treino do modelo multinomial\n",
    "\n",
    "nb.fit(X_train_dtm, y_train) #treino do modelo bernoulli"
   ]
  },
  {
   "cell_type": "code",
   "execution_count": 21,
   "metadata": {},
   "outputs": [],
   "source": [
    "#TESTES\n",
    "\n",
    "y_pred_multinomial = multinomial.predict(x_test) #teste de validacao multinomial\n",
    "\n",
    "X_test_dtm_bernoulli = vetor_bernoulli.transform(x_test)\n",
    "\n",
    "y_pred_bernoulli = nb.predict(X_test_dtm_bernoulli) #test de validacao bernoulli"
   ]
  },
  {
   "cell_type": "code",
   "execution_count": 22,
   "metadata": {},
   "outputs": [
    {
     "name": "stdout",
     "output_type": "stream",
     "text": [
      "Label Multinomial:  ['china']\n",
      "Label Bernoulli:  ['not china']\n"
     ]
    }
   ],
   "source": [
    "#RESULTADO DOS TESTES\n",
    "\n",
    "print('Label Multinomial: ',y_pred_multinomial)\n",
    "print('Label Bernoulli: ', y_pred_bernoulli)"
   ]
  },
  {
   "cell_type": "code",
   "execution_count": 24,
   "metadata": {},
   "outputs": [
    {
     "name": "stdout",
     "output_type": "stream",
     "text": [
      "Nomes dos atributos:  ['beijing', 'chinese', 'japan', 'macao', 'shanghai', 'tokyo']\n",
      "Matriz de contagem Multinomial: \n",
      "[[1 2 0 0 0 0]\n",
      " [0 2 0 0 1 0]\n",
      " [0 1 0 1 0 0]\n",
      " [0 1 1 0 0 1]]\n",
      "Matriz de Contagem Bernoulli: \n",
      "[[1 1 0 0 0 0]\n",
      " [0 1 0 0 1 0]\n",
      " [0 1 0 1 0 0]\n",
      " [0 1 1 0 0 1]]\n"
     ]
    }
   ],
   "source": [
    "#PRINT DADOS\n",
    "\n",
    "print('Nomes dos atributos: ', vetor_multi.get_feature_names())\n",
    "print('Matriz de contagem Multinomial: ')\n",
    "print(X_train_dtm_multinomial.toarray())\n",
    "print('Matriz de Contagem Bernoulli: ')\n",
    "print(X_train_dtm_bernoulli.toarray()) "
   ]
  },
  {
   "cell_type": "code",
   "execution_count": null,
   "metadata": {},
   "outputs": [],
   "source": []
  }
 ],
 "metadata": {
  "kernelspec": {
   "display_name": "Python 3",
   "language": "python",
   "name": "python3"
  },
  "language_info": {
   "codemirror_mode": {
    "name": "ipython",
    "version": 3
   },
   "file_extension": ".py",
   "mimetype": "text/x-python",
   "name": "python",
   "nbconvert_exporter": "python",
   "pygments_lexer": "ipython3",
   "version": "3.7.6"
  }
 },
 "nbformat": 4,
 "nbformat_minor": 4
}
