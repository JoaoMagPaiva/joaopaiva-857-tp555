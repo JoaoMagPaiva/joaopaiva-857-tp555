{
 "cells": [
  {
   "cell_type": "code",
   "execution_count": 5,
   "metadata": {},
   "outputs": [],
   "source": [
    "#DECLARAÇÃO DE BIBLIOTECAS\n",
    "\n",
    "import tensorflow as tf\n",
    "import numpy as np\n",
    "from sklearn.datasets import make_moons\n",
    "from sklearn.model_selection import train_test_split\n",
    "from sklearn.metrics import precision_score\n",
    "import matplotlib.pyplot as plt"
   ]
  },
  {
   "cell_type": "code",
   "execution_count": 6,
   "metadata": {},
   "outputs": [],
   "source": [
    "#GERAÇÃO DE DADOS\n",
    "\n",
    "N = 1000\n",
    "X, y = make_moons(N, noise=0.1, random_state=42)\n",
    "\n",
    "x_train, x_test, y_train, y_test = train_test_split(X, y, test_size=0.2, random_state=42)\n",
    "\n",
    "x_train = np.c_[np.ones((len(y_train), 1)), x_train, x_train[:,0]**2, x_train[:,1]**2, x_train[:,0]**3, x_train[:,1]**3]\n",
    "\n",
    "x_test = np.c_[np.ones((len(y_test), 1)), x_test, x_test[:,0]**2, x_test[:,1]**2, x_test[:,0]**3, x_test[:,1]**3]\n",
    "\n",
    "y_train = y_train.reshape(-1, 1)\n",
    "y_test = y_test.reshape(-1, 1)\n"
   ]
  },
  {
   "cell_type": "code",
   "execution_count": 7,
   "metadata": {},
   "outputs": [],
   "source": [
    "#RESTAURAÇÃO\n",
    "\n",
    "def reset_graph(seed=42):\n",
    "    tf.reset_default_graph()\n",
    "    tf.set_random_seed(seed)\n",
    "    np.random.seed(seed)"
   ]
  },
  {
   "cell_type": "code",
   "execution_count": 8,
   "metadata": {},
   "outputs": [],
   "source": [
    "#FUNÇÃO DE CRIAÇÃO DE MINI-LOTES\n",
    "\n",
    "def random_batch(x_train, y_train, tamanho):\n",
    "    indices = np.random.randint(0, len(x_train), tamanho)\n",
    "    x_lote = x_train[indices]\n",
    "    y_lote = y_train[indices]\n",
    "    return x_lote, y_lote"
   ]
  },
  {
   "cell_type": "code",
   "execution_count": 9,
   "metadata": {},
   "outputs": [
    {
     "name": "stdout",
     "output_type": "stream",
     "text": [
      "WARNING:tensorflow:From C:\\ProgramData\\Anaconda3\\lib\\site-packages\\tensorflow\\python\\ops\\losses\\losses_impl.py:121: add_dispatch_support.<locals>.wrapper (from tensorflow.python.ops.array_ops) is deprecated and will be removed in a future version.\n",
      "Instructions for updating:\n",
      "Use tf.where in 2.0, which has the same broadcast rule as np.where\n"
     ]
    }
   ],
   "source": [
    "#CRIAÇÃO DO GRAFO\n",
    "\n",
    "reset_graph()\n",
    "X = tf.placeholder(tf.float32, shape=(None, 7), name=\"X\")\n",
    "y = tf.placeholder(tf.float32, shape=(None, 1), name=\"y\")\n",
    "theta = tf.Variable(tf.random_uniform([7, 1], -1.0, 1.0, seed=42), name=\"theta\")\n",
    "logits = tf.matmul(X, theta, name=\"logits\")\n",
    "y_proba = tf.sigmoid(logits)\n",
    "loss = tf.losses.log_loss(y, y_proba)\n",
    "learning_rate = 0.2\n",
    "optimizer = tf.train.GradientDescentOptimizer(learning_rate=learning_rate)\n",
    "training_op = optimizer.minimize(loss)\n",
    "init = tf.global_variables_initializer()\n",
    "saver = tf.train.Saver()"
   ]
  },
  {
   "cell_type": "code",
   "execution_count": 10,
   "metadata": {},
   "outputs": [
    {
     "name": "stdout",
     "output_type": "stream",
     "text": [
      "tf_logs1/run-20200614215527/\n"
     ]
    }
   ],
   "source": [
    "#TENSORBOARD\n",
    "\n",
    "from datetime import datetime\n",
    "from tensorboard import notebook\n",
    "\n",
    "now = datetime.utcnow().strftime(\"%Y%m%d%H%M%S\")\n",
    "root_logdir = \"tf_logs1\"\n",
    "logdir = \"{}/run-{}/\".format(root_logdir, now)\n",
    "\n",
    "print(logdir)\n",
    "\n",
    "loss_summary = tf.summary.scalar('MSE', loss)\n",
    "file_writer = tf.summary.FileWriter(logdir, tf.get_default_graph())"
   ]
  },
  {
   "cell_type": "code",
   "execution_count": 13,
   "metadata": {},
   "outputs": [
    {
     "name": "stdout",
     "output_type": "stream",
     "text": [
      "Epoch: 0 \tLoss: 0.097025536\n",
      "Epoch: 100 \tLoss: 0.006240809\n",
      "Epoch: 200 \tLoss: 0.005370921\n",
      "Epoch: 300 \tLoss: 0.0037275958\n",
      "Epoch: 400 \tLoss: 0.0029761314\n",
      "Epoch: 500 \tLoss: 0.0026979519\n",
      "Epoch: 600 \tLoss: 0.001828273\n",
      "Epoch: 700 \tLoss: 0.0018320663\n",
      "Epoch: 800 \tLoss: 0.0019516997\n",
      "Epoch: 900 \tLoss: 0.0014805817\n"
     ]
    }
   ],
   "source": [
    "#EXECUÇÃO DO GRAFO\n",
    "\n",
    "iteracoes = 1000\n",
    "tamanho = 1\n",
    "lotes = int(np.ceil(N / tamanho))\n",
    "\n",
    "with tf.Session() as sess:\n",
    "    sess.run(init)\n",
    "\n",
    "    for epoch in range(iteracoes):\n",
    "        for indice in range(lotes):\n",
    "            x_lote, y_lote = random_batch(x_train, y_train, tamanho)\n",
    "            sess.run(training_op, feed_dict={X: x_lote, y: y_lote})\n",
    "        loss_val = loss.eval({X: x_test, y: y_test})\n",
    "        \n",
    "        if epoch % 100 == 0:\n",
    "            print(\"Epoch:\", epoch, \"\\tLoss:\", loss_val)\n",
    "            save_path = saver.save(sess, \"./my_model.ckpt\")\n",
    "            \n",
    "        if indice % 10 == 0:\n",
    "                summary_str = loss_summary.eval(feed_dict={X: x_lote, y: y_lote})\n",
    "                step = epoch * lotes + indice\n",
    "                file_writer.add_summary(summary_str, step)\n",
    "\n",
    "    y_proba_val = y_proba.eval(feed_dict={X: x_test, y: y_test})\n",
    "    \n",
    "    save_path = saver.save(sess, \"./my_model_final.ckpt\")"
   ]
  },
  {
   "cell_type": "code",
   "execution_count": 14,
   "metadata": {},
   "outputs": [
    {
     "name": "stdout",
     "output_type": "stream",
     "text": [
      "Precisão:  1.0\n"
     ]
    }
   ],
   "source": [
    "#PRECISÃO\n",
    "\n",
    "y_pred = (y_proba_val >= 0.5)\n",
    "\n",
    "precisao = precision_score(y_test, y_pred)\n",
    "\n",
    "print('Precisão: ', precisao)"
   ]
  },
  {
   "cell_type": "code",
   "execution_count": 15,
   "metadata": {},
   "outputs": [
    {
     "data": {
      "image/png": "[encoded data removed]",
      "text/plain": [
       "<Figure size 432x288 with 1 Axes>"
      ]
     },
     "metadata": {
      "needs_background": "light"
     },
     "output_type": "display_data"
    }
   ],
   "source": [
    "y_pred_idx = y_pred.reshape(-1)\n",
    "plt.plot(x_test[y_pred_idx, 1], x_test[y_pred_idx, 2], 'gs', label=\"True\")\n",
    "plt.plot(x_test[~y_pred_idx, 1], x_test[~y_pred_idx, 2], 'ro', label=\"False\")\n",
    "plt.legend()\n",
    "plt.show()"
   ]
  },
  {
   "cell_type": "code",
   "execution_count": 48,
   "metadata": {},
   "outputs": [],
   "source": [
    "# Load the TensorBoard notebook extension\n",
    "%load_ext tensorboard\n",
    "#%reload_ext tensorboard"
   ]
  },
  {
   "cell_type": "code",
   "execution_count": 49,
   "metadata": {},
   "outputs": [
    {
     "data": {
      "text/plain": [
       "ERROR: Timed out waiting for TensorBoard to start. It may still be running as pid 39328."
      ]
     },
     "metadata": {},
     "output_type": "display_data"
    }
   ],
   "source": [
    "%tensorboard --logdir tf_logs1"
   ]
  },
  {
   "cell_type": "code",
   "execution_count": null,
   "metadata": {},
   "outputs": [],
   "source": [
    "file_writer.close()"
   ]
  }
 ],
 "metadata": {
  "kernelspec": {
   "display_name": "Python 3",
   "language": "python",
   "name": "python3"
  },
  "language_info": {
   "codemirror_mode": {
    "name": "ipython",
    "version": 3
   },
   "file_extension": ".py",
   "mimetype": "text/x-python",
   "name": "python",
   "nbconvert_exporter": "python",
   "pygments_lexer": "ipython3",
   "version": "3.7.6"
  }
 },
 "nbformat": 4,
 "nbformat_minor": 4
}
