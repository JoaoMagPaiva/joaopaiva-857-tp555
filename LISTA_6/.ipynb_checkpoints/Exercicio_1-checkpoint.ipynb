{
 "cells": [
  {
   "cell_type": "code",
   "execution_count": 24,
   "metadata": {},
   "outputs": [],
   "source": [
    "#DECLARAÇÃO DE BIBLIOTECAS\n",
    "\n",
    "import numpy as np\n",
    "import matplotlib.pyplot as plt\n",
    "from matplotlib.colors import ListedColormap\n",
    "from sklearn.neighbors import KNeighborsClassifier\n",
    "from sklearn.model_selection import train_test_split\n",
    "from sklearn.datasets import make_blobs\n",
    "from sklearn.metrics import confusion_matrix, accuracy_score, roc_curve, auc, classification_report\n",
    "import seaborn as sns"
   ]
  },
  {
   "cell_type": "code",
   "execution_count": 36,
   "metadata": {},
   "outputs": [
    {
     "name": "stdout",
     "output_type": "stream",
     "text": [
      "X [[4, 7], [5, 6], [3, 4], [6, 9], [6, 4], [7, 6], [8, 0], [10, 10], [12, 3]]\n",
      "X_test [6, 5]\n",
      "Y [0, 0, 0, 0, 1, 1, 1, 1, 1]\n"
     ]
    }
   ],
   "source": [
    "#GERAÇÃO DE DADOS\n",
    "\n",
    "x = [[4, 7],\n",
    "    [5, 6], \n",
    "    [3, 4],\n",
    "    [6, 9],\n",
    "    [6, 4],\n",
    "    [7, 6],\n",
    "    [8, 0],\n",
    "    [10, 10],\n",
    "    [12, 3]]\n",
    "\n",
    "y = [0, 0, 0, 0, 1, 1, 1, 1, 1]\n",
    "\n",
    "x_t = [6,5]\n",
    "\n",
    "print('X' ,x)\n",
    "print('X_test' ,x_t)\n",
    "print('Y' ,y)"
   ]
  },
  {
   "cell_type": "code",
   "execution_count": 44,
   "metadata": {},
   "outputs": [
    {
     "data": {
      "text/plain": [
       "array([1])"
      ]
     },
     "execution_count": 44,
     "metadata": {},
     "output_type": "execute_result"
    }
   ],
   "source": [
    "k = 3\n",
    "clf = KNeighborsClassifier(k, weights='uniform')\n",
    "\n",
    "clf.fit(x,y)\n",
    "\n",
    "clf.predict([x_t])\n"
   ]
  },
  {
   "cell_type": "code",
   "execution_count": null,
   "metadata": {},
   "outputs": [],
   "source": []
  }
 ],
 "metadata": {
  "kernelspec": {
   "display_name": "Python 3",
   "language": "python",
   "name": "python3"
  },
  "language_info": {
   "codemirror_mode": {
    "name": "ipython",
    "version": 3
   },
   "file_extension": ".py",
   "mimetype": "text/x-python",
   "name": "python",
   "nbconvert_exporter": "python",
   "pygments_lexer": "ipython3",
   "version": "3.7.6"
  }
 },
 "nbformat": 4,
 "nbformat_minor": 4
}
